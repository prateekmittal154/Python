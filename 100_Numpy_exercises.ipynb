{
 "cells": [
  {
   "cell_type": "markdown",
   "metadata": {},
   "source": [
    "#### 1. Import the numpy package under the name `np` (★☆☆)"
   ]
  },
  {
   "cell_type": "code",
   "execution_count": 4,
   "metadata": {},
   "outputs": [],
   "source": [
    "import numpy as np"
   ]
  },
  {
   "cell_type": "markdown",
   "metadata": {},
   "source": [
    "#### 2. Print the numpy version and the configuration (★☆☆)"
   ]
  },
  {
   "cell_type": "code",
   "execution_count": 19,
   "metadata": {},
   "outputs": [
    {
     "name": "stdout",
     "output_type": "stream",
     "text": [
      "1.15.1\n",
      "mkl_info:\n",
      "    libraries = ['mkl_rt', 'pthread']\n",
      "    library_dirs = ['/home/prateek/anaconda3/lib']\n",
      "    define_macros = [('SCIPY_MKL_H', None), ('HAVE_CBLAS', None)]\n",
      "    include_dirs = ['/home/prateek/anaconda3/include']\n",
      "blas_mkl_info:\n",
      "    libraries = ['mkl_rt', 'pthread']\n",
      "    library_dirs = ['/home/prateek/anaconda3/lib']\n",
      "    define_macros = [('SCIPY_MKL_H', None), ('HAVE_CBLAS', None)]\n",
      "    include_dirs = ['/home/prateek/anaconda3/include']\n",
      "blas_opt_info:\n",
      "    libraries = ['mkl_rt', 'pthread']\n",
      "    library_dirs = ['/home/prateek/anaconda3/lib']\n",
      "    define_macros = [('SCIPY_MKL_H', None), ('HAVE_CBLAS', None)]\n",
      "    include_dirs = ['/home/prateek/anaconda3/include']\n",
      "lapack_mkl_info:\n",
      "    libraries = ['mkl_rt', 'pthread']\n",
      "    library_dirs = ['/home/prateek/anaconda3/lib']\n",
      "    define_macros = [('SCIPY_MKL_H', None), ('HAVE_CBLAS', None)]\n",
      "    include_dirs = ['/home/prateek/anaconda3/include']\n",
      "lapack_opt_info:\n",
      "    libraries = ['mkl_rt', 'pthread']\n",
      "    library_dirs = ['/home/prateek/anaconda3/lib']\n",
      "    define_macros = [('SCIPY_MKL_H', None), ('HAVE_CBLAS', None)]\n",
      "    include_dirs = ['/home/prateek/anaconda3/include']\n"
     ]
    }
   ],
   "source": [
    "print(np.__version__)\n",
    "\n",
    "np.show_config()"
   ]
  },
  {
   "cell_type": "markdown",
   "metadata": {},
   "source": [
    "#### 3. Create a null vector of size 10 (★☆☆)"
   ]
  },
  {
   "cell_type": "code",
   "execution_count": 14,
   "metadata": {},
   "outputs": [
    {
     "name": "stdout",
     "output_type": "stream",
     "text": [
      "[0 0 0 0 0 0 0 0 0 0]\n"
     ]
    }
   ],
   "source": [
    "a=np.zeros(10)\n",
    "a= a.astype('int32')\n",
    "print(a)"
   ]
  },
  {
   "cell_type": "markdown",
   "metadata": {},
   "source": [
    "#### 4. How to find the memory size of any array (★☆☆)"
   ]
  },
  {
   "cell_type": "code",
   "execution_count": 16,
   "metadata": {},
   "outputs": [
    {
     "name": "stdout",
     "output_type": "stream",
     "text": [
      "The memory size occupied by this Array is:\n",
      "40\n"
     ]
    }
   ],
   "source": [
    "print(\"The memory size occupied by this Array is:\")\n",
    "print(a.size*a.itemsize)"
   ]
  },
  {
   "cell_type": "markdown",
   "metadata": {},
   "source": [
    "#### 5. How to get the documentation of the numpy add function from the command line? (★☆☆)"
   ]
  },
  {
   "cell_type": "code",
   "execution_count": null,
   "metadata": {},
   "outputs": [],
   "source": []
  },
  {
   "cell_type": "markdown",
   "metadata": {},
   "source": [
    "#### 6. Create a null vector of size 10 but the fifth value which is 1 (★☆☆)"
   ]
  },
  {
   "cell_type": "code",
   "execution_count": 21,
   "metadata": {},
   "outputs": [
    {
     "name": "stdout",
     "output_type": "stream",
     "text": [
      "[0 0 0 0 1 0 0 0 0 0]\n"
     ]
    }
   ],
   "source": [
    "b=np.zeros(10)\n",
    "b=b.astype('int32')\n",
    "b[4]=1\n",
    "print(b)"
   ]
  },
  {
   "cell_type": "markdown",
   "metadata": {},
   "source": [
    "#### 7. Create a vector with values ranging from 10 to 49 (★☆☆)"
   ]
  },
  {
   "cell_type": "code",
   "execution_count": 27,
   "metadata": {},
   "outputs": [
    {
     "name": "stdout",
     "output_type": "stream",
     "text": [
      "[10 11 12 13 14 15 16 17 18 19 20 21 22 23 24 25 26 27 28 29 30 31 32 33\n",
      " 34 35 36 37 38 39 40 41 42 43 44 45 46 47 48 49]\n"
     ]
    }
   ],
   "source": [
    "c=np.arange(10,50)\n",
    "print(c)"
   ]
  },
  {
   "cell_type": "markdown",
   "metadata": {},
   "source": [
    "#### 8. Reverse a vector (first element becomes last) (★☆☆)"
   ]
  },
  {
   "cell_type": "code",
   "execution_count": 32,
   "metadata": {},
   "outputs": [
    {
     "name": "stdout",
     "output_type": "stream",
     "text": [
      "[49 48 47 46 45 44 43 42 41 40 39 38 37 36 35 34 33 32 31 30 29 28 27 26\n",
      " 25 24 23 22 21 20 19 18 17 16 15 14 13 12 11 10]\n"
     ]
    }
   ],
   "source": [
    "res=np.flipud(c)\n",
    "print(res)"
   ]
  },
  {
   "cell_type": "markdown",
   "metadata": {},
   "source": [
    "#### 9. Create a 3x3 matrix with values ranging from 0 to 8 (★☆☆)"
   ]
  },
  {
   "cell_type": "code",
   "execution_count": 36,
   "metadata": {},
   "outputs": [
    {
     "name": "stdout",
     "output_type": "stream",
     "text": [
      "[[0 1 2]\n",
      " [3 4 5]\n",
      " [6 7 8]]\n"
     ]
    }
   ],
   "source": [
    "ans=np.arange(0,9)\n",
    "ans.shape=(3,3)\n",
    "print(ans)"
   ]
  },
  {
   "cell_type": "markdown",
   "metadata": {},
   "source": [
    "#### 10. Find indices of non-zero elements from [1,2,0,0,4,0] (★☆☆)"
   ]
  },
  {
   "cell_type": "code",
   "execution_count": 50,
   "metadata": {},
   "outputs": [
    {
     "name": "stdout",
     "output_type": "stream",
     "text": [
      "0\n",
      "1\n",
      "4\n"
     ]
    }
   ],
   "source": [
    "a=[1,2,0,0,4,0]\n",
    "b=[]\n",
    "for i in range(0,6):\n",
    "    if a[i]!=0:\n",
    "        print(i)\n",
    "    "
   ]
  },
  {
   "cell_type": "markdown",
   "metadata": {},
   "source": [
    "#### 11. Create a 3x3 identity matrix (★☆☆)"
   ]
  },
  {
   "cell_type": "code",
   "execution_count": 38,
   "metadata": {},
   "outputs": [
    {
     "name": "stdout",
     "output_type": "stream",
     "text": [
      "[[1 0 0]\n",
      " [0 1 0]\n",
      " [0 0 1]]\n"
     ]
    }
   ],
   "source": [
    "ans_11=np.identity(3)\n",
    "ans_11=ans_11.astype('int32')\n",
    "print(ans_11)"
   ]
  },
  {
   "cell_type": "markdown",
   "metadata": {},
   "source": [
    "#### 12. Create a 3x3x3 array with random values (★☆☆)"
   ]
  },
  {
   "cell_type": "code",
   "execution_count": 44,
   "metadata": {},
   "outputs": [
    {
     "name": "stdout",
     "output_type": "stream",
     "text": [
      "[[[14 12 26]\n",
      "  [ 4 13 16]\n",
      "  [ 7 10  4]]\n",
      "\n",
      " [[ 9 19 17]\n",
      "  [21  2 11]\n",
      "  [14 20  4]]\n",
      "\n",
      " [[20  6 15]\n",
      "  [ 9 22  4]\n",
      "  [ 9  2 24]]]\n"
     ]
    }
   ],
   "source": [
    "import random \n",
    "ans_12=np.random.randint(28, size=(3,3,3))\n",
    "print(ans_12)"
   ]
  },
  {
   "cell_type": "markdown",
   "metadata": {},
   "source": [
    "#### 13. Create a 10x10 array with random values and find the minimum and maximum values (★☆☆)"
   ]
  },
  {
   "cell_type": "code",
   "execution_count": 57,
   "metadata": {},
   "outputs": [
    {
     "name": "stdout",
     "output_type": "stream",
     "text": [
      "[[68.09718105 33.2075616  69.5082553   2.87772232 30.93780808 21.46690584\n",
      "  34.63855717 68.54601691 65.26776211 26.88898211]\n",
      " [32.33177289  4.10655185 24.16224737 35.1902676  51.51979042 95.38997163\n",
      "  91.93667676 13.90744478 65.17502681 24.47953354]\n",
      " [14.14599998 86.32729024 22.09820053 82.57748406 51.05296901 41.39657077\n",
      "  45.34732183 13.28481379 95.78144989 91.975351  ]\n",
      " [95.18041088 12.05185102 84.98379452 25.09754975 86.81741879 10.20883584\n",
      "  87.00711684 71.96185461 95.86573221 55.15389597]\n",
      " [28.7683361  25.93664446 25.08450869  5.2745413  57.24667347 40.64381087\n",
      "  92.16724034 81.12149227 39.49819995 70.54821309]\n",
      " [99.17876396 80.28924668 41.82073519 69.76176034 85.67596683  3.71030004\n",
      "  55.44509344 42.75668982 77.49862752 23.08914089]\n",
      " [32.82388685 26.22227587 19.59048647 90.97600371 61.10668401 48.73971888\n",
      "  48.08348716 77.63665716 49.93474298 45.7562196 ]\n",
      " [38.11746695 10.48447811 83.76717428 86.65407538 58.07603355 42.61512279\n",
      "  32.72403734 46.46495473 46.78748574 17.81896349]\n",
      " [71.15142753 90.7274722  73.30191075 31.87569584 81.09755068 17.2637209\n",
      "  50.48150879 20.54727451 26.93462285 45.7847514 ]\n",
      " [34.37536155 38.16111754 92.12604396  4.59683023 69.60628902 80.31261195\n",
      "  38.12536408 57.59061769 60.85262294 62.08017683]]\n",
      "\n",
      " \n",
      " \n",
      "The maximum element in this array is: \n",
      "\n",
      "99.17876396150238\n",
      "The minimum element in this array is : \n",
      " \n",
      "\n",
      "2.8777223161138608\n"
     ]
    }
   ],
   "source": [
    "import random\n",
    "ans_13=np.random.uniform(100, size=(10,10))\n",
    "max= ans_13.max()\n",
    "min= ans_13.min()\n",
    "print(ans_13)\n",
    "print('\\n \\n ')\n",
    "print(\"The maximum element in this array is: \\n\")\n",
    "print(max)\n",
    "print(\"The minimum element in this array is : \\n \\n\")\n",
    "print(min)"
   ]
  },
  {
   "cell_type": "markdown",
   "metadata": {},
   "source": [
    "#### 14. Create a random vector of size 30 and find the mean value (★☆☆)"
   ]
  },
  {
   "cell_type": "code",
   "execution_count": 73,
   "metadata": {},
   "outputs": [
    {
     "name": "stdout",
     "output_type": "stream",
     "text": [
      "[[3949.18930064 9266.3100283  5324.02357775 3681.36405113 2256.77396754\n",
      "  3008.12088032 4523.87461274 2594.62754034 3682.40693816 7763.61647811\n",
      "   178.93374297 2424.91937882 4311.54888477 8832.24555515 5630.15260876\n",
      "  7409.93078603 3673.24345667 2243.29054186 8011.48311165 7816.31270404\n",
      "   450.28639659 3105.86768926 4226.69400193  843.97679882 2315.30628237\n",
      "  2413.2820574  2956.09658033 3761.75374011 8724.94575323 6355.23346622]\n",
      " [6512.71795947 7070.51736353 1859.91153421 2140.63346547 1591.18609309\n",
      "  1046.56074476 5367.53861741 4701.21248924 6730.78086329 5520.98260158\n",
      "  7803.39174343 1826.363379    310.83253556  387.99917702 9972.79908067\n",
      "  3585.19904638 1884.60082955 2436.58661789 7365.78874193  335.61894455\n",
      "  8609.60833528 9329.17180764 8838.27098725 2787.47875535 8951.1576648\n",
      "  4163.90895102 2156.84940989 1586.08125168 8044.24106422 1097.59298674]\n",
      " [8201.58935569 9357.60071177 9898.68577497 6890.2413943  5013.32900636\n",
      "  2114.90234706 3257.80881334 9968.6253817  1859.90240165 6449.82810034\n",
      "  6582.86018235  369.17320303 8840.82113213 1084.23329342  920.52542947\n",
      "  3558.20216982 1110.41450113 2579.90921026 2524.97718712 9013.47320645\n",
      "  2549.964432    365.81852413 7955.69704633 7706.45826505 4931.01244772\n",
      "  3718.57946281 6172.75004171 2664.39935455 8098.60007873 5045.40243818]\n",
      " [4025.51878156 8269.51528136 1760.46923427 9917.96109466 4224.29120581\n",
      "  1841.49531336 7502.25732468 8864.29016404 4022.6066347  4601.10860025\n",
      "  1273.92516993 3203.93948584 6409.45606173  339.81836384 2919.72538626\n",
      "   337.93070375 8537.65595086 4486.62921611 3230.93014808 8494.95049464\n",
      "  5734.33101228 6584.0877556  8472.84698964  976.07842561 3450.2028633\n",
      "  6223.8248706  7181.37500125 8585.71158757 3053.14400308 9216.95198598]\n",
      " [1399.48063214 2256.91809384 7007.62273159 7087.59360971 6187.67041705\n",
      "  7897.15963022 7215.67387813 4112.26439845 5765.89797495 6012.85881921\n",
      "  4910.00423891 5220.39827538 1677.72513934 3366.4603718  6448.6689274\n",
      "  6141.07689567 5317.37761436 2139.35565032 8520.7215646  8618.10299729\n",
      "   879.99181948 9770.56166984   90.01775284 3182.05980849 5578.35068337\n",
      "  9621.7773358  6709.18083027 9586.75353464 2326.14195774 6738.67955923]\n",
      " [ 943.28115868 8646.87859731 4652.1626546  2384.93502998 6163.02269026\n",
      "  2053.83111142 5700.87377007 7234.91431409 7110.87244632 5561.38137638\n",
      "  1276.00488417 8639.95735658  426.11280935 1028.61154892 2014.82523513\n",
      "  7767.02444758  107.01692625 5014.69412738  528.0940971  9006.07400063\n",
      "  3611.37846083 5381.49439525 7402.189098   2040.37459988   53.48764975\n",
      "  4421.44095907 6999.59066697 2031.61292037  855.70527934 7011.96134713]\n",
      " [6908.59643485 5122.6611656  4919.37313496 9155.4276842  6624.20318419\n",
      "  2074.81998613 5548.13727697 3206.90143511 1365.57655767  173.3171417\n",
      "  1688.38649764 1286.35734643  999.84613593 3235.89567161  929.47933047\n",
      "  9634.13067723 5726.80672706 7782.76849353 7649.73866983 6315.72884443\n",
      "  1593.5587932   473.13783111 8257.21024023 4212.60864096  616.77276031\n",
      "  5473.42412547 8233.80000487 4094.80802384 6578.58407014 6648.9229143 ]\n",
      " [6438.05781072 3650.85453208  266.76866769 1154.79868102 9824.32783652\n",
      "  5578.22380603 2962.53278955 3976.19171997 9939.03308523 5641.96670217\n",
      "  4583.44996992 1930.19099806 3024.56795884 8710.03308741 4598.81106712\n",
      "  3202.9438032  7954.99479796 5508.41798969 5459.253718   5462.74464032\n",
      "  7344.77852668 9454.15285744 8456.77531138 2085.14125079 6983.99898381\n",
      "  7448.07849971 6877.54285443 8941.69342656 9948.50374668 2592.09120206]\n",
      " [8566.75941616 9059.47299203 5734.2802496  2518.77463398 4327.80259574\n",
      "  1596.64184474 8290.95234551  443.8251176  5369.26239983 1871.25808991\n",
      "  6914.27297835 1961.23819285  646.02618553 6545.09457886 7205.41142186\n",
      "  5081.5125528  6706.01439538  428.64762404 8560.01926447 6371.20724116\n",
      "  7634.57878212   83.42026002 4668.95573039 4703.17902178 9375.17487701\n",
      "   821.03179087 8945.30805858 9731.61766425 2920.23241477 3608.13523196]\n",
      " [4943.13525235  538.38967848 3375.25205924 5097.42731669  709.53756645\n",
      "  9749.01413709 8686.05296751 7064.61322443  315.49397838 7195.1638611\n",
      "  4313.25842589 6662.48438053 3260.13655011 9020.37629749 3336.75875937\n",
      "  9569.01608166 4408.57171587 7217.90155096 2411.98394668 7003.58354076\n",
      "   870.64444183 3814.41990341 3791.52400876  105.1352045  7381.965468\n",
      "  7366.49741997 5093.75133244 6726.22843298 7169.06429881 3825.5114175 ]\n",
      " [5002.43603132 6449.28334114 6833.07872417 5600.41962382 6290.13772311\n",
      "  8973.807877   7584.42842251  773.41729675 1291.96451721 7102.90161039\n",
      "  2380.55218624 4542.03415131 9398.36917516 6092.81515342 4895.36858643\n",
      "  8823.55113263 3842.7415162  7458.75144297 4420.65948149 6096.80559423\n",
      "  9486.99449212 9660.31017361 7434.99380127 4104.10093561 5603.01862721\n",
      "  7059.81652712 9056.85960565  114.13135699 2435.89867913 8734.60898158]\n",
      " [7468.40543423 3014.53722274 5567.3157688    49.6089712  4425.56221536\n",
      "   166.82277064 2141.12025124 8818.8271453   490.25387315 3301.0373234\n",
      "  4132.76744044 4082.7690033  9612.26066712  440.70441681 6465.6850102\n",
      "  3574.08210156 8318.40744004 6815.68875224 2506.82384311 6452.46691725\n",
      "   766.94045913  813.46363269 2861.29896275 6213.40388096 9314.99046347\n",
      "  1662.43604268 2215.20214287 7225.97895612 8573.02120106 4114.87144549]\n",
      " [5994.72647652 1996.61839657 6994.18296545 3081.60811879 1568.21852788\n",
      "  3982.96403184 4249.84470458 1662.96616518 4327.53196202 7612.49631634\n",
      "  8683.7023033  1018.00293512 9156.26138824 2502.01118915 8083.0757073\n",
      "  6821.84135082 3131.7112412  4136.57342042 2521.98582428 8044.73429945\n",
      "  3808.76752977  854.30339668  564.26047806 5548.24244595 6287.91332615\n",
      "  6185.2083974  7522.71871389   33.93413347 5769.47698475 6753.87839131]\n",
      " [9127.20696487 5792.33940532 7097.97150939 9472.02580535 9705.26948979\n",
      "  8873.30212135 4182.08875875 8995.13103142  801.18517863 3123.7113828\n",
      "  9735.29778854 9878.48292718 2323.56032261 8331.86385816 9049.34175721\n",
      "  9292.82870321 8159.17423775 7807.87774522 9597.89781031 1921.66284967\n",
      "  6448.6922619  1850.70255683 6854.44210145 3404.1886334  8434.74389295\n",
      "  7785.18416295 6125.80116503 1018.68185979 6629.15158471 3239.60644714]\n",
      " [8404.46572258 4814.29609213 6343.44424846 5476.41751052  569.95425695\n",
      "  1268.40602412 7677.89903383 1821.61812117 4708.15484746 4667.34361924\n",
      "  8189.520462   6585.12122084 4295.9365102  3247.72842514 6814.6948989\n",
      "  3344.71200991 4513.67458913 7354.83665195 1571.21100571 7661.5400663\n",
      "  9787.99690413 3054.70204098 8516.66283165 2679.79694225  354.65095044\n",
      "  4299.04597623 5337.49287138 2470.76464915 7850.43196387 1615.78597829]\n",
      " [8902.80549573 9593.64906566 5968.33459906 3601.02719523 4525.41584415\n",
      "  2009.85153811 2920.92650944 1974.52181341  429.52609139 8720.68238863\n",
      "  5313.21410421 4708.44965497 4585.37062832 2588.430448   5876.13218939\n",
      "  1484.85292549 6723.22004734 3567.39693716 6052.02891519 5083.86028444\n",
      "  4745.88466309 5542.35681462 5996.89332954 7981.28474368 9640.9035585\n",
      "  1064.33474738 6629.98526089 6606.30013152   36.05829501 2604.98614902]\n",
      " [7410.22166939 9755.40961301 6917.37586689 3247.76348873 1816.67168409\n",
      "  2137.38348856 9069.90886584 2613.22131222 4673.95385737 3150.48723054\n",
      "  1836.46091874 8647.29120201 3787.47183355 5202.50295859 8737.74075972\n",
      "  9856.06010007 3165.22044476  285.32818179 2736.12749391 9636.57186607\n",
      "  8351.98161703 8109.68732491 6081.98794836 9485.35800844 1031.34514877\n",
      "  1808.03095361 9762.70436451 2182.62907996 4573.38617055 4639.93752849]\n",
      " [4628.08959766 1939.36565857 9433.62275479 7454.11690922 6195.02571767\n",
      "  7139.54629331 3835.91101332 6321.57353176 6068.33353709 6607.41944897\n",
      "    46.37555711 6986.0264263  1460.21524095 9799.0383531  7409.62642368\n",
      "  4496.74810212 9029.72960805 8688.30559437  797.00172946 5864.02612773\n",
      "  1463.03321248 8320.12912228 9848.32895375 7547.91978972 1549.08550625\n",
      "  2624.53286896 7549.95197705 6251.89827306 5779.0961689  2597.42105964]\n",
      " [7981.07076271 6886.81817734  330.87494899 1025.30921689 4987.11839204\n",
      "  6528.82290741 5992.88007308 8640.11380351 8225.03533313 2069.5471527\n",
      "   678.4968622  5127.01615632 5343.11975464 8152.61640875 6567.62685335\n",
      "  1354.09065272 1254.80950961 6421.53871901  661.1000694  1560.59587243\n",
      "  1149.54334679 6264.94695583 7200.71303566 4965.78558831 4078.93351704\n",
      "  9805.7013649   400.5577473  4137.18193711 8172.95459758 5630.92077522]\n",
      " [6923.90152345 3231.26485042 7957.95435733 7867.93901764 5171.4927442\n",
      "   148.01268114 2528.4564307   491.58986536 5278.78234646 1999.54573064\n",
      "  2668.79178617 7217.58434473 4482.31378262 8199.68289142  180.48722788\n",
      "  7750.9854333  6827.61921182 9066.24176432 1506.97406729 5464.42698042\n",
      "  2834.2209146  8589.49060034 7998.80776703 5666.82429911 5122.40018296\n",
      "  3272.91873003  716.97274343 7563.97456442 9417.65404873 6558.52227645]\n",
      " [7290.22581847 7380.77303309  832.47794943 6296.07794615 1805.5948859\n",
      "  1352.67294409 9377.66795754  804.83118687 9636.9766652  4599.52456324\n",
      "   606.26446847 8949.32589427 3696.53175975  375.82291713 2189.05066574\n",
      "  6176.4388354  3335.18916723 3335.71933031 2979.50358938 6639.3194219\n",
      "   620.85065695 8151.19254655 6110.8427372  4747.00209398 1688.35246145\n",
      "  4852.53725618 4356.82142004 5168.5256278  3341.20250816  860.48347359]\n",
      " [ 658.90424601 3881.49695636 7525.99097348 7057.279199   7391.47510612\n",
      "  9462.12457123 1554.3348473  9487.62740047  330.98677116 6196.77812107\n",
      "  9076.26897804 8720.96912644 4097.98081027 9218.18010986 9054.76655549\n",
      "  8676.4207099  1517.4591902  3700.05420531 7211.83482194  782.08560003\n",
      "  9598.36961578 6948.15752104 4137.26280641 5541.46616142 6172.22222424\n",
      "  6075.83710732 2340.700101   5985.0534476  4308.1587031  6370.25894103]\n",
      " [7461.68107146 9950.16839664 6339.89788834 3999.46456625 2335.6004729\n",
      "  4797.82049863 9096.97049867 3026.32847612 5561.03149441  500.32643113\n",
      "  7538.93840993 5612.96797788 4292.07374376 3785.28716493 5924.74077534\n",
      "  4780.08761079 8328.25551044 2191.76444027 8615.7800509  9845.77732879\n",
      "  8546.74319267 4202.73945604 8284.63527126 1525.80363236 3340.65353813\n",
      "  1654.7667728  3094.8182836  1800.75965834 6464.60293905 5337.35027214]\n",
      " [7572.36994871 6079.26561487 3177.13723798  386.08828838 6548.55305814\n",
      "  4372.50541153 1125.03026622 9467.15513107  750.74275117 2275.86250359\n",
      "  5663.75216375 2198.32071828 4131.24086037 6908.7060149  5222.94381213\n",
      "  1380.70826414 7620.79542213 5060.67828358 6331.19658755 2373.34353933\n",
      "  4514.75262193 6178.47884682 5493.15085323 2390.40618632 7861.74277271\n",
      "  1841.0709775  1868.98185678 8635.45013248 4969.83922524 3761.03144846]\n",
      " [7106.23315402 8096.8252427  9128.84285642 9915.59492464 8527.40105822\n",
      "   947.90360994 6378.15177096  775.07323    6603.97140347   14.77060171\n",
      "  2661.04342825 4630.46251968 9895.33712866  955.49458587  916.98872022\n",
      "  7298.95429996 1720.0377043  6305.43273735 2229.44676654 7708.99994817\n",
      "  1622.8812329  1841.84121154 3796.54090146 9039.75147907  949.23913569\n",
      "  6281.37957779  909.11141672 6665.7861885  1160.99915816 3092.85790122]\n",
      " [9207.83776742 8257.58316316 4853.45458375 8845.30164211 7603.56456191\n",
      "  8976.58253767  816.80601171 2952.51819831 2770.08590757 5214.21043182\n",
      "  1582.94682563 7883.32798206 9155.38460139 3010.47183184 1414.43283836\n",
      "  1060.78091678 4475.29410403 7750.55961808 9414.246262   2212.18288162\n",
      "  5395.2867565  5086.08345647 9645.26597204 7691.66542804 8868.67426994\n",
      "  8095.54119592 9772.39250742 5841.24642305 3270.72177972 6122.73112449]\n",
      " [3497.50494164 9993.36505214 5416.60446421 4109.07320683 3329.7847511\n",
      "  5717.85299948 3511.43297431 8547.2468498   743.71411926 5465.58486461\n",
      "  3983.30278288 9247.69165999 9341.2465098  4462.18510807 7750.89594739\n",
      "  3905.79305757 7485.02518394 4368.8364758  4737.29787193 5207.80199636\n",
      "  3747.21598477   77.21719023 8126.01328443 4321.8925427  9226.76337607\n",
      "  1415.91716937 9503.9095046   729.69661031 6177.86162721 2067.87464795]\n",
      " [ 239.32810367 2916.08825697 4987.30114369 3413.02579635 4454.82930169\n",
      "  1129.55353694 9669.41499754 8965.08090417 9642.78518887 6151.47770213\n",
      "  2859.09133225 4320.22544542 2145.83374064 4230.81355337 7522.27790659\n",
      "  9081.44994018 9822.2022642  9535.90424494 2824.25903837  936.25414895\n",
      "  5340.97200261 7934.60193716 2655.32311351 5484.21825942 5366.53107487\n",
      "   366.60499031 3089.34878175  410.58255918 8117.94823864 3736.65045265]\n",
      " [7977.59764203 9767.79531084 1121.40102502  887.85116837 4174.83939341\n",
      "  6199.3066997  2022.266635   6261.76136637 6987.57742534 1536.04469052\n",
      "  1239.69591896 3073.70104008 2621.54880699  194.05283705 9289.91987467\n",
      "  1277.78600987 6310.5106755  8746.61643858 6735.86933506 3435.31140317\n",
      "  8418.57727929 5914.01207301 2454.4072991  2016.76219327 7991.66378413\n",
      "  2015.94250952 1291.21465559 2861.89810171 8427.22086563 8085.72877126]\n",
      " [ 249.47557481 8881.2927246  9929.82774139 9196.40480711 6973.45026105\n",
      "  8718.33791446   28.53257511 4801.728194   3918.20181967 5111.5771508\n",
      "  5862.91215202 5010.04780869 5349.55904404 5561.58298964 8997.21217546\n",
      "   801.65590314 2317.27364953 8048.59181511 9052.58638594 4746.010151\n",
      "  6342.42491575 1606.09659858 8710.62263768 5638.01763827 5493.8987176\n",
      "  8034.40823496 9381.95525202 3054.92055795 1721.39058315 9727.28150367]]\n",
      "\n",
      "\n",
      "The Mean value of the data in this array is: \n",
      " \n",
      "\n",
      "5051.851935771201\n"
     ]
    }
   ],
   "source": [
    "import random\n",
    "\n",
    "ans_14= np.random.uniform(10000,size=(30,30))\n",
    "mean_value = ans_14.mean()\n",
    "\n",
    "print(ans_14)\n",
    "print('\\n')\n",
    "print('The Mean value of the data in this array is: \\n \\n')\n",
    "print(mean_value)\n"
   ]
  },
  {
   "cell_type": "markdown",
   "metadata": {},
   "source": [
    "#### 15. Create a 2d array with 1 on the border and 0 inside (★☆☆)"
   ]
  },
  {
   "cell_type": "code",
   "execution_count": null,
   "metadata": {},
   "outputs": [],
   "source": []
  },
  {
   "cell_type": "markdown",
   "metadata": {},
   "source": [
    "#### 16. How to add a border (filled with 0's) around an existing array? (★☆☆)"
   ]
  },
  {
   "cell_type": "code",
   "execution_count": null,
   "metadata": {},
   "outputs": [],
   "source": []
  },
  {
   "cell_type": "code",
   "execution_count": 64,
   "metadata": {},
   "outputs": [
    {
     "data": {
      "text/plain": [
       "False"
      ]
     },
     "execution_count": 64,
     "metadata": {},
     "output_type": "execute_result"
    }
   ],
   "source": [
    "#### 17. What is the result of the following expression? (★☆☆)\n",
    "\n",
    "0 * np.nan\n",
    "np.nan == np.nan\n",
    "np.inf > np.nan\n",
    "np.nan - np.nan\n",
    "np.nan in set([np.nan])\n",
    "0.3 == 3 * 0.1"
   ]
  },
  {
   "cell_type": "markdown",
   "metadata": {},
   "source": [
    "#### 18. Create a 5x5 matrix with values 1,2,3,4 just below the diagonal (★☆☆)"
   ]
  },
  {
   "cell_type": "code",
   "execution_count": 72,
   "metadata": {},
   "outputs": [
    {
     "name": "stdout",
     "output_type": "stream",
     "text": [
      "[[0 0 0 0 0]\n",
      " [1 0 0 0 0]\n",
      " [0 2 0 0 0]\n",
      " [0 0 3 0 0]\n",
      " [0 0 0 4 0]]\n"
     ]
    }
   ],
   "source": [
    "ans_18 = np.zeros(shape=(5,5))\n",
    "ans_18 = ans_18.astype('int32')\n",
    "count=1\n",
    "ans_18[1][0]=1\n",
    "ans_18[2][1]=2\n",
    "ans_18[3][2]=3\n",
    "ans_18[4][3]=4\n",
    "print(ans_18)"
   ]
  },
  {
   "cell_type": "markdown",
   "metadata": {},
   "source": [
    "#### 19. Create a 8x8 matrix and fill it with a checkerboard pattern (★☆☆)"
   ]
  },
  {
   "cell_type": "code",
   "execution_count": null,
   "metadata": {},
   "outputs": [],
   "source": []
  },
  {
   "cell_type": "markdown",
   "metadata": {},
   "source": [
    "#### 20. Consider a (6,7,8) shape array, what is the index (x,y,z) of the 100th element? (★☆☆)"
   ]
  },
  {
   "cell_type": "code",
   "execution_count": null,
   "metadata": {},
   "outputs": [],
   "source": []
  },
  {
   "cell_type": "markdown",
   "metadata": {},
   "source": [
    "#### 21. Create a checkerboard 8x8 matrix using the tile function (★☆☆)"
   ]
  },
  {
   "cell_type": "code",
   "execution_count": null,
   "metadata": {},
   "outputs": [],
   "source": []
  },
  {
   "cell_type": "markdown",
   "metadata": {},
   "source": [
    "#### 22. Normalize a 5x5 random matrix (★☆☆)"
   ]
  },
  {
   "cell_type": "code",
   "execution_count": null,
   "metadata": {},
   "outputs": [],
   "source": []
  },
  {
   "cell_type": "markdown",
   "metadata": {},
   "source": [
    "#### 23. Create a custom dtype that describes a color as four unsigned bytes (RGBA) (★☆☆)"
   ]
  },
  {
   "cell_type": "code",
   "execution_count": null,
   "metadata": {},
   "outputs": [],
   "source": []
  },
  {
   "cell_type": "markdown",
   "metadata": {},
   "source": [
    "#### 24. Multiply a 5x3 matrix by a 3x2 matrix (real matrix product) (★☆☆)"
   ]
  },
  {
   "cell_type": "code",
   "execution_count": null,
   "metadata": {},
   "outputs": [],
   "source": []
  },
  {
   "cell_type": "markdown",
   "metadata": {},
   "source": [
    "#### 25. Given a 1D array, negate all elements which are between 3 and 8, in place. (★☆☆)"
   ]
  },
  {
   "cell_type": "code",
   "execution_count": null,
   "metadata": {},
   "outputs": [],
   "source": []
  },
  {
   "cell_type": "markdown",
   "metadata": {},
   "source": [
    "#### 26. What is the output of the following script? (★☆☆)\n",
    "```python\n",
    "# Author: Jake VanderPlas\n",
    "\n",
    "print(sum(range(5),-1))\n",
    "from numpy import *\n",
    "print(sum(range(5),-1))\n",
    "```"
   ]
  },
  {
   "cell_type": "code",
   "execution_count": null,
   "metadata": {},
   "outputs": [],
   "source": []
  },
  {
   "cell_type": "markdown",
   "metadata": {},
   "source": [
    "#### 27. Consider an integer vector Z, which of these expressions are legal? (★☆☆)\n",
    "```python\n",
    "Z**Z\n",
    "2 << Z >> 2\n",
    "Z <- Z\n",
    "1j*Z\n",
    "Z/1/1\n",
    "Z<Z>Z\n",
    "```"
   ]
  },
  {
   "cell_type": "code",
   "execution_count": null,
   "metadata": {},
   "outputs": [],
   "source": []
  },
  {
   "cell_type": "markdown",
   "metadata": {},
   "source": [
    "#### 28. What are the result of the following expressions? (★☆☆)\n",
    "```python\n",
    "np.array(0) / np.array(0)\n",
    "np.array(0) // np.array(0)\n",
    "np.array([np.nan]).astype(int).astype(float)\n",
    "```"
   ]
  },
  {
   "cell_type": "code",
   "execution_count": null,
   "metadata": {},
   "outputs": [],
   "source": []
  },
  {
   "cell_type": "markdown",
   "metadata": {},
   "source": [
    "#### 29. How to round away from zero a float array ? (★☆☆)"
   ]
  },
  {
   "cell_type": "code",
   "execution_count": null,
   "metadata": {},
   "outputs": [],
   "source": []
  },
  {
   "cell_type": "markdown",
   "metadata": {},
   "source": [
    "#### 30. How to find common values between two arrays? (★☆☆)"
   ]
  },
  {
   "cell_type": "code",
   "execution_count": null,
   "metadata": {},
   "outputs": [],
   "source": []
  },
  {
   "cell_type": "markdown",
   "metadata": {},
   "source": [
    "#### 31. How to ignore all numpy warnings (not recommended)? (★☆☆)"
   ]
  },
  {
   "cell_type": "code",
   "execution_count": null,
   "metadata": {},
   "outputs": [],
   "source": []
  },
  {
   "cell_type": "markdown",
   "metadata": {},
   "source": [
    "#### 32. Is the following expressions true? (★☆☆)\n",
    "```python\n",
    "np.sqrt(-1) == np.emath.sqrt(-1)\n",
    "```"
   ]
  },
  {
   "cell_type": "code",
   "execution_count": null,
   "metadata": {},
   "outputs": [],
   "source": []
  },
  {
   "cell_type": "markdown",
   "metadata": {},
   "source": [
    "#### 33. How to get the dates of yesterday, today and tomorrow? (★☆☆)"
   ]
  },
  {
   "cell_type": "code",
   "execution_count": null,
   "metadata": {},
   "outputs": [],
   "source": []
  },
  {
   "cell_type": "markdown",
   "metadata": {},
   "source": [
    "#### 34. How to get all the dates corresponding to the month of July 2016? (★★☆)"
   ]
  },
  {
   "cell_type": "code",
   "execution_count": null,
   "metadata": {},
   "outputs": [],
   "source": []
  },
  {
   "cell_type": "markdown",
   "metadata": {},
   "source": [
    "#### 35. How to compute ((A+B)*(-A/2)) in place (without copy)? (★★☆)"
   ]
  },
  {
   "cell_type": "code",
   "execution_count": null,
   "metadata": {},
   "outputs": [],
   "source": []
  },
  {
   "cell_type": "markdown",
   "metadata": {},
   "source": [
    "#### 36. Extract the integer part of a random array of positive numbers using 4 different methods (★★☆)"
   ]
  },
  {
   "cell_type": "code",
   "execution_count": null,
   "metadata": {},
   "outputs": [],
   "source": []
  },
  {
   "cell_type": "markdown",
   "metadata": {},
   "source": [
    "#### 37. Create a 5x5 matrix with row values ranging from 0 to 4 (★★☆)"
   ]
  },
  {
   "cell_type": "code",
   "execution_count": null,
   "metadata": {},
   "outputs": [],
   "source": []
  },
  {
   "cell_type": "markdown",
   "metadata": {},
   "source": [
    "#### 38. Consider a generator function that generates 10 integers and use it to build an array (★☆☆)"
   ]
  },
  {
   "cell_type": "code",
   "execution_count": null,
   "metadata": {},
   "outputs": [],
   "source": []
  },
  {
   "cell_type": "markdown",
   "metadata": {},
   "source": [
    "#### 39. Create a vector of size 10 with values ranging from 0 to 1, both excluded (★★☆)"
   ]
  },
  {
   "cell_type": "code",
   "execution_count": null,
   "metadata": {},
   "outputs": [],
   "source": []
  },
  {
   "cell_type": "markdown",
   "metadata": {},
   "source": [
    "#### 40. Create a random vector of size 10 and sort it (★★☆)"
   ]
  },
  {
   "cell_type": "code",
   "execution_count": null,
   "metadata": {},
   "outputs": [],
   "source": []
  },
  {
   "cell_type": "markdown",
   "metadata": {},
   "source": [
    "#### 41. How to sum a small array faster than np.sum? (★★☆)"
   ]
  },
  {
   "cell_type": "code",
   "execution_count": null,
   "metadata": {},
   "outputs": [],
   "source": []
  },
  {
   "cell_type": "markdown",
   "metadata": {},
   "source": [
    "#### 42. Consider two random array A and B, check if they are equal (★★☆)"
   ]
  },
  {
   "cell_type": "code",
   "execution_count": null,
   "metadata": {},
   "outputs": [],
   "source": []
  },
  {
   "cell_type": "markdown",
   "metadata": {},
   "source": [
    "#### 43. Make an array immutable (read-only) (★★☆)"
   ]
  },
  {
   "cell_type": "code",
   "execution_count": null,
   "metadata": {},
   "outputs": [],
   "source": []
  },
  {
   "cell_type": "markdown",
   "metadata": {},
   "source": [
    "#### 44. Consider a random 10x2 matrix representing cartesian coordinates, convert them to polar coordinates (★★☆)"
   ]
  },
  {
   "cell_type": "code",
   "execution_count": null,
   "metadata": {},
   "outputs": [],
   "source": []
  },
  {
   "cell_type": "markdown",
   "metadata": {},
   "source": [
    "#### 45. Create random vector of size 10 and replace the maximum value by 0 (★★☆)"
   ]
  },
  {
   "cell_type": "code",
   "execution_count": null,
   "metadata": {},
   "outputs": [],
   "source": []
  },
  {
   "cell_type": "markdown",
   "metadata": {},
   "source": [
    "#### 46. Create a structured array with `x` and `y` coordinates covering the [0,1]x[0,1] area (★★☆)"
   ]
  },
  {
   "cell_type": "code",
   "execution_count": null,
   "metadata": {},
   "outputs": [],
   "source": []
  },
  {
   "cell_type": "markdown",
   "metadata": {},
   "source": [
    "#### 47. Given two arrays, X and Y, construct the Cauchy matrix C (Cij =1/(xi - yj)) (★★☆)"
   ]
  },
  {
   "cell_type": "code",
   "execution_count": null,
   "metadata": {},
   "outputs": [],
   "source": []
  },
  {
   "cell_type": "markdown",
   "metadata": {},
   "source": [
    "#### 48. Print the minimum and maximum representable value for each numpy scalar type (★★☆)"
   ]
  },
  {
   "cell_type": "code",
   "execution_count": null,
   "metadata": {},
   "outputs": [],
   "source": []
  },
  {
   "cell_type": "markdown",
   "metadata": {},
   "source": [
    "#### 49. How to print all the values of an array? (★★☆)"
   ]
  },
  {
   "cell_type": "code",
   "execution_count": null,
   "metadata": {},
   "outputs": [],
   "source": []
  },
  {
   "cell_type": "markdown",
   "metadata": {},
   "source": [
    "#### 50. How to find the closest value (to a given scalar) in a vector? (★★☆)"
   ]
  },
  {
   "cell_type": "code",
   "execution_count": null,
   "metadata": {},
   "outputs": [],
   "source": []
  },
  {
   "cell_type": "markdown",
   "metadata": {},
   "source": [
    "#### 51. Create a structured array representing a position (x,y) and a color (r,g,b) (★★☆)"
   ]
  },
  {
   "cell_type": "code",
   "execution_count": null,
   "metadata": {},
   "outputs": [],
   "source": []
  },
  {
   "cell_type": "markdown",
   "metadata": {},
   "source": [
    "#### 52. Consider a random vector with shape (100,2) representing coordinates, find point by point distances (★★☆)"
   ]
  },
  {
   "cell_type": "code",
   "execution_count": null,
   "metadata": {},
   "outputs": [],
   "source": []
  },
  {
   "cell_type": "markdown",
   "metadata": {},
   "source": [
    "#### 53. How to convert a float (32 bits) array into an integer (32 bits) in place?"
   ]
  },
  {
   "cell_type": "code",
   "execution_count": null,
   "metadata": {},
   "outputs": [],
   "source": []
  },
  {
   "cell_type": "markdown",
   "metadata": {},
   "source": [
    "#### 54. How to read the following file? (★★☆)\n",
    "```\n",
    "1, 2, 3, 4, 5\n",
    "6,  ,  , 7, 8\n",
    " ,  , 9,10,11\n",
    "```"
   ]
  },
  {
   "cell_type": "code",
   "execution_count": null,
   "metadata": {},
   "outputs": [],
   "source": []
  },
  {
   "cell_type": "markdown",
   "metadata": {},
   "source": [
    "#### 55. What is the equivalent of enumerate for numpy arrays? (★★☆)"
   ]
  },
  {
   "cell_type": "code",
   "execution_count": null,
   "metadata": {},
   "outputs": [],
   "source": []
  },
  {
   "cell_type": "markdown",
   "metadata": {},
   "source": [
    "#### 56. Generate a generic 2D Gaussian-like array (★★☆)"
   ]
  },
  {
   "cell_type": "code",
   "execution_count": null,
   "metadata": {},
   "outputs": [],
   "source": []
  },
  {
   "cell_type": "markdown",
   "metadata": {},
   "source": [
    "#### 57. How to randomly place p elements in a 2D array? (★★☆)"
   ]
  },
  {
   "cell_type": "code",
   "execution_count": null,
   "metadata": {},
   "outputs": [],
   "source": []
  },
  {
   "cell_type": "markdown",
   "metadata": {},
   "source": [
    "#### 58. Subtract the mean of each row of a matrix (★★☆)"
   ]
  },
  {
   "cell_type": "code",
   "execution_count": null,
   "metadata": {},
   "outputs": [],
   "source": []
  },
  {
   "cell_type": "markdown",
   "metadata": {},
   "source": [
    "#### 59. How to sort an array by the nth column? (★★☆)"
   ]
  },
  {
   "cell_type": "code",
   "execution_count": null,
   "metadata": {},
   "outputs": [],
   "source": []
  },
  {
   "cell_type": "markdown",
   "metadata": {},
   "source": [
    "#### 60. How to tell if a given 2D array has null columns? (★★☆)"
   ]
  },
  {
   "cell_type": "code",
   "execution_count": null,
   "metadata": {},
   "outputs": [],
   "source": []
  },
  {
   "cell_type": "markdown",
   "metadata": {},
   "source": [
    "#### 61. Find the nearest value from a given value in an array (★★☆)"
   ]
  },
  {
   "cell_type": "code",
   "execution_count": null,
   "metadata": {},
   "outputs": [],
   "source": []
  },
  {
   "cell_type": "markdown",
   "metadata": {},
   "source": [
    "#### 62. Considering two arrays with shape (1,3) and (3,1), how to compute their sum using an iterator? (★★☆)"
   ]
  },
  {
   "cell_type": "code",
   "execution_count": null,
   "metadata": {},
   "outputs": [],
   "source": []
  },
  {
   "cell_type": "markdown",
   "metadata": {},
   "source": [
    "#### 63. Create an array class that has a name attribute (★★☆)"
   ]
  },
  {
   "cell_type": "code",
   "execution_count": null,
   "metadata": {},
   "outputs": [],
   "source": []
  },
  {
   "cell_type": "markdown",
   "metadata": {},
   "source": [
    "#### 64. Consider a given vector, how to add 1 to each element indexed by a second vector (be careful with repeated indices)? (★★★)"
   ]
  },
  {
   "cell_type": "code",
   "execution_count": null,
   "metadata": {},
   "outputs": [],
   "source": []
  },
  {
   "cell_type": "markdown",
   "metadata": {},
   "source": [
    "#### 65. How to accumulate elements of a vector (X) to an array (F) based on an index list (I)? (★★★)"
   ]
  },
  {
   "cell_type": "code",
   "execution_count": null,
   "metadata": {},
   "outputs": [],
   "source": []
  },
  {
   "cell_type": "markdown",
   "metadata": {},
   "source": [
    "#### 66. Considering a (w,h,3) image of (dtype=ubyte), compute the number of unique colors (★★☆)"
   ]
  },
  {
   "cell_type": "code",
   "execution_count": null,
   "metadata": {},
   "outputs": [],
   "source": []
  },
  {
   "cell_type": "markdown",
   "metadata": {},
   "source": [
    "#### 67. Considering a four dimensions array, how to get sum over the last two axis at once? (★★★)"
   ]
  },
  {
   "cell_type": "code",
   "execution_count": null,
   "metadata": {},
   "outputs": [],
   "source": []
  },
  {
   "cell_type": "markdown",
   "metadata": {},
   "source": [
    "#### 68. Considering a one-dimensional vector D, how to compute means of subsets of D using a vector S of same size describing subset  indices? (★★★)"
   ]
  },
  {
   "cell_type": "code",
   "execution_count": null,
   "metadata": {},
   "outputs": [],
   "source": []
  },
  {
   "cell_type": "markdown",
   "metadata": {},
   "source": [
    "#### 69. How to get the diagonal of a dot product? (★★★)"
   ]
  },
  {
   "cell_type": "code",
   "execution_count": null,
   "metadata": {},
   "outputs": [],
   "source": []
  },
  {
   "cell_type": "markdown",
   "metadata": {},
   "source": [
    "#### 70. Consider the vector [1, 2, 3, 4, 5], how to build a new vector with 3 consecutive zeros interleaved between each value? (★★★)"
   ]
  },
  {
   "cell_type": "code",
   "execution_count": null,
   "metadata": {},
   "outputs": [],
   "source": []
  },
  {
   "cell_type": "markdown",
   "metadata": {},
   "source": [
    "#### 71. Consider an array of dimension (5,5,3), how to mulitply it by an array with dimensions (5,5)? (★★★)"
   ]
  },
  {
   "cell_type": "code",
   "execution_count": null,
   "metadata": {},
   "outputs": [],
   "source": []
  },
  {
   "cell_type": "markdown",
   "metadata": {},
   "source": [
    "#### 72. How to swap two rows of an array? (★★★)"
   ]
  },
  {
   "cell_type": "code",
   "execution_count": null,
   "metadata": {},
   "outputs": [],
   "source": []
  },
  {
   "cell_type": "markdown",
   "metadata": {},
   "source": [
    "#### 73. Consider a set of 10 triplets describing 10 triangles (with shared vertices), find the set of unique line segments composing all the  triangles (★★★)"
   ]
  },
  {
   "cell_type": "code",
   "execution_count": null,
   "metadata": {},
   "outputs": [],
   "source": []
  },
  {
   "cell_type": "markdown",
   "metadata": {},
   "source": [
    "#### 74. Given a sorted array C that corresponds to a bincount, how to produce an array A such that np.bincount(A) == C? (★★★)"
   ]
  },
  {
   "cell_type": "code",
   "execution_count": null,
   "metadata": {},
   "outputs": [],
   "source": []
  },
  {
   "cell_type": "markdown",
   "metadata": {},
   "source": [
    "#### 75. How to compute averages using a sliding window over an array? (★★★)"
   ]
  },
  {
   "cell_type": "code",
   "execution_count": null,
   "metadata": {},
   "outputs": [],
   "source": []
  },
  {
   "cell_type": "markdown",
   "metadata": {},
   "source": [
    "#### 76. Consider a one-dimensional array Z, build a two-dimensional array whose first row is (Z[0],Z[1],Z[2]) and each subsequent row is  shifted by 1 (last row should be (Z[-3],Z[-2],Z[-1]) (★★★)"
   ]
  },
  {
   "cell_type": "code",
   "execution_count": null,
   "metadata": {},
   "outputs": [],
   "source": []
  },
  {
   "cell_type": "markdown",
   "metadata": {},
   "source": [
    "#### 77. How to negate a boolean, or to change the sign of a float inplace? (★★★)"
   ]
  },
  {
   "cell_type": "code",
   "execution_count": null,
   "metadata": {},
   "outputs": [],
   "source": []
  },
  {
   "cell_type": "markdown",
   "metadata": {},
   "source": [
    "#### 78. Consider 2 sets of points P0,P1 describing lines (2d) and a point p, how to compute distance from p to each line i (P0[i],P1[i])? (★★★)"
   ]
  },
  {
   "cell_type": "code",
   "execution_count": null,
   "metadata": {},
   "outputs": [],
   "source": []
  },
  {
   "cell_type": "markdown",
   "metadata": {},
   "source": [
    "#### 79. Consider 2 sets of points P0,P1 describing lines (2d) and a set of points P, how to compute distance from each point j (P[j]) to each line i (P0[i],P1[i])? (★★★)"
   ]
  },
  {
   "cell_type": "code",
   "execution_count": null,
   "metadata": {},
   "outputs": [],
   "source": []
  },
  {
   "cell_type": "markdown",
   "metadata": {},
   "source": [
    "#### 80. Consider an arbitrary array, write a function that extract a subpart with a fixed shape and centered on a given element (pad with a `fill` value when necessary) (★★★)"
   ]
  },
  {
   "cell_type": "code",
   "execution_count": null,
   "metadata": {},
   "outputs": [],
   "source": []
  },
  {
   "cell_type": "markdown",
   "metadata": {},
   "source": [
    "#### 81. Consider an array Z = [1,2,3,4,5,6,7,8,9,10,11,12,13,14], how to generate an array R = [[1,2,3,4], [2,3,4,5], [3,4,5,6], ..., [11,12,13,14]]? (★★★)"
   ]
  },
  {
   "cell_type": "code",
   "execution_count": null,
   "metadata": {},
   "outputs": [],
   "source": []
  },
  {
   "cell_type": "markdown",
   "metadata": {},
   "source": [
    "#### 82. Compute a matrix rank (★★★)"
   ]
  },
  {
   "cell_type": "code",
   "execution_count": null,
   "metadata": {},
   "outputs": [],
   "source": []
  },
  {
   "cell_type": "markdown",
   "metadata": {},
   "source": [
    "#### 83. How to find the most frequent value in an array?"
   ]
  },
  {
   "cell_type": "code",
   "execution_count": null,
   "metadata": {},
   "outputs": [],
   "source": []
  },
  {
   "cell_type": "markdown",
   "metadata": {},
   "source": [
    "#### 84. Extract all the contiguous 3x3 blocks from a random 10x10 matrix (★★★)"
   ]
  },
  {
   "cell_type": "code",
   "execution_count": null,
   "metadata": {},
   "outputs": [],
   "source": []
  },
  {
   "cell_type": "markdown",
   "metadata": {},
   "source": [
    "#### 85. Create a 2D array subclass such that Z[i,j] == Z[j,i] (★★★)"
   ]
  },
  {
   "cell_type": "code",
   "execution_count": null,
   "metadata": {},
   "outputs": [],
   "source": []
  },
  {
   "cell_type": "markdown",
   "metadata": {},
   "source": [
    "#### 86. Consider a set of p matrices wich shape (n,n) and a set of p vectors with shape (n,1). How to compute the sum of of the p matrix products at once? (result has shape (n,1)) (★★★)"
   ]
  },
  {
   "cell_type": "code",
   "execution_count": null,
   "metadata": {},
   "outputs": [],
   "source": []
  },
  {
   "cell_type": "markdown",
   "metadata": {},
   "source": [
    "#### 87. Consider a 16x16 array, how to get the block-sum (block size is 4x4)? (★★★)"
   ]
  },
  {
   "cell_type": "code",
   "execution_count": null,
   "metadata": {},
   "outputs": [],
   "source": []
  },
  {
   "cell_type": "markdown",
   "metadata": {},
   "source": [
    "#### 88. How to implement the Game of Life using numpy arrays? (★★★)"
   ]
  },
  {
   "cell_type": "code",
   "execution_count": null,
   "metadata": {},
   "outputs": [],
   "source": []
  },
  {
   "cell_type": "markdown",
   "metadata": {},
   "source": [
    "#### 89. How to get the n largest values of an array (★★★)"
   ]
  },
  {
   "cell_type": "code",
   "execution_count": null,
   "metadata": {},
   "outputs": [],
   "source": []
  },
  {
   "cell_type": "markdown",
   "metadata": {},
   "source": [
    "#### 90. Given an arbitrary number of vectors, build the cartesian product (every combinations of every item) (★★★)"
   ]
  },
  {
   "cell_type": "code",
   "execution_count": null,
   "metadata": {},
   "outputs": [],
   "source": []
  },
  {
   "cell_type": "markdown",
   "metadata": {},
   "source": [
    "#### 91. How to create a record array from a regular array? (★★★)"
   ]
  },
  {
   "cell_type": "code",
   "execution_count": null,
   "metadata": {},
   "outputs": [],
   "source": []
  },
  {
   "cell_type": "markdown",
   "metadata": {},
   "source": [
    "#### 92. Consider a large vector Z, compute Z to the power of 3 using 3 different methods (★★★)"
   ]
  },
  {
   "cell_type": "code",
   "execution_count": null,
   "metadata": {},
   "outputs": [],
   "source": []
  },
  {
   "cell_type": "markdown",
   "metadata": {},
   "source": [
    "#### 93. Consider two arrays A and B of shape (8,3) and (2,2). How to find rows of A that contain elements of each row of B regardless of the order of the elements in B? (★★★)"
   ]
  },
  {
   "cell_type": "code",
   "execution_count": null,
   "metadata": {},
   "outputs": [],
   "source": []
  },
  {
   "cell_type": "markdown",
   "metadata": {},
   "source": [
    "#### 94. Considering a 10x3 matrix, extract rows with unequal values (e.g. [2,2,3]) (★★★)"
   ]
  },
  {
   "cell_type": "code",
   "execution_count": null,
   "metadata": {},
   "outputs": [],
   "source": []
  },
  {
   "cell_type": "markdown",
   "metadata": {},
   "source": [
    "#### 95. Convert a vector of ints into a matrix binary representation (★★★)"
   ]
  },
  {
   "cell_type": "code",
   "execution_count": null,
   "metadata": {},
   "outputs": [],
   "source": []
  },
  {
   "cell_type": "markdown",
   "metadata": {},
   "source": [
    "#### 96. Given a two dimensional array, how to extract unique rows? (★★★)"
   ]
  },
  {
   "cell_type": "code",
   "execution_count": null,
   "metadata": {},
   "outputs": [],
   "source": []
  },
  {
   "cell_type": "markdown",
   "metadata": {},
   "source": [
    "#### 97. Considering 2 vectors A & B, write the einsum equivalent of inner, outer, sum, and mul function (★★★)"
   ]
  },
  {
   "cell_type": "code",
   "execution_count": null,
   "metadata": {},
   "outputs": [],
   "source": []
  },
  {
   "cell_type": "markdown",
   "metadata": {},
   "source": [
    "#### 98. Considering a path described by two vectors (X,Y), how to sample it using equidistant samples (★★★)?"
   ]
  },
  {
   "cell_type": "code",
   "execution_count": null,
   "metadata": {},
   "outputs": [],
   "source": []
  },
  {
   "cell_type": "markdown",
   "metadata": {},
   "source": [
    "#### 99. Given an integer n and a 2D array X, select from X the rows which can be interpreted as draws from a multinomial distribution with n degrees, i.e., the rows which only contain integers and which sum to n. (★★★)"
   ]
  },
  {
   "cell_type": "code",
   "execution_count": null,
   "metadata": {},
   "outputs": [],
   "source": []
  },
  {
   "cell_type": "markdown",
   "metadata": {},
   "source": [
    "#### 100. Compute bootstrapped 95% confidence intervals for the mean of a 1D array X (i.e., resample the elements of an array with replacement N times, compute the mean of each sample, and then compute percentiles over the means). (★★★)"
   ]
  },
  {
   "cell_type": "code",
   "execution_count": null,
   "metadata": {},
   "outputs": [],
   "source": []
  }
 ],
 "metadata": {
  "kernelspec": {
   "display_name": "Python 3",
   "language": "python",
   "name": "python3"
  },
  "language_info": {
   "codemirror_mode": {
    "name": "ipython",
    "version": 3
   },
   "file_extension": ".py",
   "mimetype": "text/x-python",
   "name": "python",
   "nbconvert_exporter": "python",
   "pygments_lexer": "ipython3",
   "version": "3.7.0"
  }
 },
 "nbformat": 4,
 "nbformat_minor": 5
}
